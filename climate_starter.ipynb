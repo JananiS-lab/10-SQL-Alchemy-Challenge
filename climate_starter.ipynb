{
 "cells": [
  {
   "cell_type": "markdown",
   "metadata": {
    "toc": true
   },
   "source": [
    "<h1>Sections<span class=\"tocSkip\"></span></h1>\n",
    "<div class=\"toc\"><ul class=\"toc-item\"><li><span><a href=\"#Climate-Analysis-and-Exploration:\" data-toc-modified-id=\"Climate-Analysis-and-Exploration:-1\"><span class=\"toc-item-num\">1&nbsp;&nbsp;</span>Climate Analysis and Exploration:</a></span><ul class=\"toc-item\"><li><span><a href=\"#Imported-the-dependencies\" data-toc-modified-id=\"Imported-the-dependencies-1.1\"><span class=\"toc-item-num\">1.1&nbsp;&nbsp;</span>Imported the dependencies</a></span></li><li><span><a href=\"#Defined-the-database-path,-created-an-engine-and-connected-to-the-database\" data-toc-modified-id=\"Defined-the-database-path,-created-an-engine-and-connected-to-the-database-1.2\"><span class=\"toc-item-num\">1.2&nbsp;&nbsp;</span>Defined the database path, created an engine and connected to the database</a></span></li><li><span><a href=\"#Reflecting-the-tables-into-classes-using-SQLAlchemy-automap\" data-toc-modified-id=\"Reflecting-the-tables-into-classes-using-SQLAlchemy-automap-1.3\"><span class=\"toc-item-num\">1.3&nbsp;&nbsp;</span>Reflecting the tables into classes using SQLAlchemy automap</a></span></li></ul></li><li><span><a href=\"#Precipitation-Analysis\" data-toc-modified-id=\"Precipitation-Analysis-2\"><span class=\"toc-item-num\">2&nbsp;&nbsp;</span>Precipitation Analysis</a></span><ul class=\"toc-item\"><li><span><a href=\"#Created-Pandas-Data-Frame-for-Measurement-and-Station-tables\" data-toc-modified-id=\"Created-Pandas-Data-Frame-for-Measurement-and-Station-tables-2.1\"><span class=\"toc-item-num\">2.1&nbsp;&nbsp;</span>Created Pandas Data Frame for Measurement and Station tables</a></span></li><li><span><a href=\"#Designed-a-query-to-retrieve-the-last-12-months-of-precipitation-data\" data-toc-modified-id=\"Designed-a-query-to-retrieve-the-last-12-months-of-precipitation-data-2.2\"><span class=\"toc-item-num\">2.2&nbsp;&nbsp;</span>Designed a query to retrieve the last 12 months of precipitation data</a></span></li><li><span><a href=\"#Plotted-the-results-in-a-Bar-Chart\" data-toc-modified-id=\"Plotted-the-results-in-a-Bar-Chart-2.3\"><span class=\"toc-item-num\">2.3&nbsp;&nbsp;</span>Plotted the results in a Bar Chart</a></span></li><li><span><a href=\"#Calculated-the-date-1-year-ago-from-the-last-data-point-in-the-database\" data-toc-modified-id=\"Calculated-the-date-1-year-ago-from-the-last-data-point-in-the-database-2.4\"><span class=\"toc-item-num\">2.4&nbsp;&nbsp;</span>Calculated the date 1 year ago from the last data point in the database</a></span></li><li><span><a href=\"#Performed-a-query-to-retrieve-the-data-and-precipitation-scores-and-loaded-them-in-a-data-frame\" data-toc-modified-id=\"Performed-a-query-to-retrieve-the-data-and-precipitation-scores-and-loaded-them-in-a-data-frame-2.5\"><span class=\"toc-item-num\">2.5&nbsp;&nbsp;</span>Performed a query to retrieve the data and precipitation scores and loaded them in a data frame</a></span></li><li><span><a href=\"#Sorted-the-dataframe-by-the-date-column\" data-toc-modified-id=\"Sorted-the-dataframe-by-the-date-column-2.6\"><span class=\"toc-item-num\">2.6&nbsp;&nbsp;</span>Sorted the dataframe by the date column</a></span></li><li><span><a href=\"#Printed-a-summary-statistics-of-the-precipitation-data\" data-toc-modified-id=\"Printed-a-summary-statistics-of-the-precipitation-data-2.7\"><span class=\"toc-item-num\">2.7&nbsp;&nbsp;</span>Printed a summary statistics of the precipitation data</a></span></li></ul></li><li><span><a href=\"#Station-Analysis\" data-toc-modified-id=\"Station-Analysis-3\"><span class=\"toc-item-num\">3&nbsp;&nbsp;</span>Station Analysis</a></span><ul class=\"toc-item\"><li><span><a href=\"#Designed-a-query-to-calculate-the-total-number-of-stations\" data-toc-modified-id=\"Designed-a-query-to-calculate-the-total-number-of-stations-3.1\"><span class=\"toc-item-num\">3.1&nbsp;&nbsp;</span>Designed a query to calculate the total number of stations</a></span></li><li><span><a href=\"#Designed-a-query-to-find-the-most-active-stations.\" data-toc-modified-id=\"Designed-a-query-to-find-the-most-active-stations.-3.2\"><span class=\"toc-item-num\">3.2&nbsp;&nbsp;</span>Designed a query to find the most active stations.</a></span></li><li><span><a href=\"#Listed-the-stations-and-observation-counts-in-descending-order.\" data-toc-modified-id=\"Listed-the-stations-and-observation-counts-in-descending-order.-3.3\"><span class=\"toc-item-num\">3.3&nbsp;&nbsp;</span>Listed the stations and observation counts in descending order.</a></span></li><li><span><a href=\"#Station-with-the-highest-number-of-observations\" data-toc-modified-id=\"Station-with-the-highest-number-of-observations-3.4\"><span class=\"toc-item-num\">3.4&nbsp;&nbsp;</span>Station with the highest number of observations</a></span></li><li><span><a href=\"#Designed-a-query-to-retrieve-the-last-12-months-of-precipitation-data\" data-toc-modified-id=\"Designed-a-query-to-retrieve-the-last-12-months-of-precipitation-data-3.5\"><span class=\"toc-item-num\">3.5&nbsp;&nbsp;</span>Designed a query to retrieve the last 12 months of precipitation data</a></span></li><li><span><a href=\"#Plotted-the-results-in-a-histogram\" data-toc-modified-id=\"Plotted-the-results-in-a-histogram-3.6\"><span class=\"toc-item-num\">3.6&nbsp;&nbsp;</span>Plotted the results in a histogram</a></span></li></ul></li></ul></div>"
   ]
  },
  {
   "cell_type": "markdown",
   "metadata": {},
   "source": [
    "### Climate Analysis and Exploration:   \n"
   ]
  },
  {
   "cell_type": "markdown",
   "metadata": {},
   "source": [
    "#### Imported the dependencies"
   ]
  },
  {
   "cell_type": "code",
   "execution_count": 1,
   "metadata": {},
   "outputs": [],
   "source": [
    "%matplotlib inline\n",
    "from sqlalchemy import create_engine, inspect\n",
    "import sqlite3\n",
    "import pandas as pd\n",
    "from sqlalchemy.ext.automap import automap_base\n",
    "from matplotlib import style\n",
    "style.use('fivethirtyeight')\n",
    "import matplotlib.pyplot as plt\n",
    "import datetime \n",
    "import calendar\n",
    "from sqlalchemy.ext.automap import automap_base\n",
    "from sqlalchemy.orm import Session\n",
    "import pandas as pd"
   ]
  },
  {
   "cell_type": "markdown",
   "metadata": {},
   "source": [
    "#### Defined the database path, created an engine and connected to the database"
   ]
  },
  {
   "cell_type": "code",
   "execution_count": 2,
   "metadata": {},
   "outputs": [],
   "source": [
    "database_path=\"../Resources/hawaii.sqlite\"\n",
    "\n",
    "#creating engine and connecting to the database\n",
    "engine= create_engine(f\"sqlite:///{database_path}\")\n",
    "\n",
    "#connecting to the database\n",
    "con = sqlite3.connect(\"Resources/hawaii.sqlite\")\n",
    "\n"
   ]
  },
  {
   "cell_type": "markdown",
   "metadata": {},
   "source": [
    "#### Reflecting the tables into classes using SQLAlchemy automap"
   ]
  },
  {
   "cell_type": "code",
   "execution_count": 3,
   "metadata": {},
   "outputs": [],
   "source": [
    "conn_str = 'sqlite:///Resources/hawaii.sqlite'\n",
    "conn = create_engine(conn_str)\n",
    "inspector = inspect(conn)\n",
    "# create base class for reflection\n",
    "Base = automap_base()\n",
    "# reflect tables in database\n",
    "Base.prepare(conn, reflect=True)\n",
    "Measurement = Base.classes.measurement\n",
    "Station= Base.classes.station\n"
   ]
  },
  {
   "cell_type": "markdown",
   "metadata": {},
   "source": [
    "### Precipitation Analysis"
   ]
  },
  {
   "cell_type": "markdown",
   "metadata": {},
   "source": [
    "#### Created Pandas Data Frame for Measurement and Station tables"
   ]
  },
  {
   "cell_type": "code",
   "execution_count": 4,
   "metadata": {},
   "outputs": [
    {
     "data": {
      "text/html": [
       "<div>\n",
       "<style scoped>\n",
       "    .dataframe tbody tr th:only-of-type {\n",
       "        vertical-align: middle;\n",
       "    }\n",
       "\n",
       "    .dataframe tbody tr th {\n",
       "        vertical-align: top;\n",
       "    }\n",
       "\n",
       "    .dataframe thead th {\n",
       "        text-align: right;\n",
       "    }\n",
       "</style>\n",
       "<table border=\"1\" class=\"dataframe\">\n",
       "  <thead>\n",
       "    <tr style=\"text-align: right;\">\n",
       "      <th></th>\n",
       "      <th>id</th>\n",
       "      <th>station</th>\n",
       "      <th>date</th>\n",
       "      <th>prcp</th>\n",
       "      <th>tobs</th>\n",
       "      <th>year</th>\n",
       "      <th>month</th>\n",
       "      <th>day</th>\n",
       "      <th>month_name</th>\n",
       "    </tr>\n",
       "  </thead>\n",
       "  <tbody>\n",
       "    <tr>\n",
       "      <th>0</th>\n",
       "      <td>1</td>\n",
       "      <td>USC00519397</td>\n",
       "      <td>01-01-2010</td>\n",
       "      <td>0.08</td>\n",
       "      <td>65.0</td>\n",
       "      <td>2010</td>\n",
       "      <td>1</td>\n",
       "      <td>1</td>\n",
       "      <td>Jan</td>\n",
       "    </tr>\n",
       "    <tr>\n",
       "      <th>1</th>\n",
       "      <td>2</td>\n",
       "      <td>USC00519397</td>\n",
       "      <td>01-02-2010</td>\n",
       "      <td>0.00</td>\n",
       "      <td>63.0</td>\n",
       "      <td>2010</td>\n",
       "      <td>1</td>\n",
       "      <td>2</td>\n",
       "      <td>Jan</td>\n",
       "    </tr>\n",
       "    <tr>\n",
       "      <th>2</th>\n",
       "      <td>3</td>\n",
       "      <td>USC00519397</td>\n",
       "      <td>01-03-2010</td>\n",
       "      <td>0.00</td>\n",
       "      <td>74.0</td>\n",
       "      <td>2010</td>\n",
       "      <td>1</td>\n",
       "      <td>3</td>\n",
       "      <td>Jan</td>\n",
       "    </tr>\n",
       "    <tr>\n",
       "      <th>3</th>\n",
       "      <td>4</td>\n",
       "      <td>USC00519397</td>\n",
       "      <td>01-04-2010</td>\n",
       "      <td>0.00</td>\n",
       "      <td>76.0</td>\n",
       "      <td>2010</td>\n",
       "      <td>1</td>\n",
       "      <td>4</td>\n",
       "      <td>Jan</td>\n",
       "    </tr>\n",
       "    <tr>\n",
       "      <th>4</th>\n",
       "      <td>5</td>\n",
       "      <td>USC00519397</td>\n",
       "      <td>01-06-2010</td>\n",
       "      <td>NaN</td>\n",
       "      <td>73.0</td>\n",
       "      <td>2010</td>\n",
       "      <td>1</td>\n",
       "      <td>6</td>\n",
       "      <td>Jan</td>\n",
       "    </tr>\n",
       "    <tr>\n",
       "      <th>...</th>\n",
       "      <td>...</td>\n",
       "      <td>...</td>\n",
       "      <td>...</td>\n",
       "      <td>...</td>\n",
       "      <td>...</td>\n",
       "      <td>...</td>\n",
       "      <td>...</td>\n",
       "      <td>...</td>\n",
       "      <td>...</td>\n",
       "    </tr>\n",
       "    <tr>\n",
       "      <th>19545</th>\n",
       "      <td>19546</td>\n",
       "      <td>USC00516128</td>\n",
       "      <td>08-19-2017</td>\n",
       "      <td>0.09</td>\n",
       "      <td>71.0</td>\n",
       "      <td>2017</td>\n",
       "      <td>8</td>\n",
       "      <td>19</td>\n",
       "      <td>Aug</td>\n",
       "    </tr>\n",
       "    <tr>\n",
       "      <th>19546</th>\n",
       "      <td>19547</td>\n",
       "      <td>USC00516128</td>\n",
       "      <td>08-20-2017</td>\n",
       "      <td>NaN</td>\n",
       "      <td>78.0</td>\n",
       "      <td>2017</td>\n",
       "      <td>8</td>\n",
       "      <td>20</td>\n",
       "      <td>Aug</td>\n",
       "    </tr>\n",
       "    <tr>\n",
       "      <th>19547</th>\n",
       "      <td>19548</td>\n",
       "      <td>USC00516128</td>\n",
       "      <td>08-21-2017</td>\n",
       "      <td>0.56</td>\n",
       "      <td>76.0</td>\n",
       "      <td>2017</td>\n",
       "      <td>8</td>\n",
       "      <td>21</td>\n",
       "      <td>Aug</td>\n",
       "    </tr>\n",
       "    <tr>\n",
       "      <th>19548</th>\n",
       "      <td>19549</td>\n",
       "      <td>USC00516128</td>\n",
       "      <td>08-22-2017</td>\n",
       "      <td>0.50</td>\n",
       "      <td>76.0</td>\n",
       "      <td>2017</td>\n",
       "      <td>8</td>\n",
       "      <td>22</td>\n",
       "      <td>Aug</td>\n",
       "    </tr>\n",
       "    <tr>\n",
       "      <th>19549</th>\n",
       "      <td>19550</td>\n",
       "      <td>USC00516128</td>\n",
       "      <td>08-23-2017</td>\n",
       "      <td>0.45</td>\n",
       "      <td>76.0</td>\n",
       "      <td>2017</td>\n",
       "      <td>8</td>\n",
       "      <td>23</td>\n",
       "      <td>Aug</td>\n",
       "    </tr>\n",
       "  </tbody>\n",
       "</table>\n",
       "<p>19550 rows × 9 columns</p>\n",
       "</div>"
      ],
      "text/plain": [
       "          id      station        date  prcp  tobs  year  month  day month_name\n",
       "0          1  USC00519397  01-01-2010  0.08  65.0  2010      1    1        Jan\n",
       "1          2  USC00519397  01-02-2010  0.00  63.0  2010      1    2        Jan\n",
       "2          3  USC00519397  01-03-2010  0.00  74.0  2010      1    3        Jan\n",
       "3          4  USC00519397  01-04-2010  0.00  76.0  2010      1    4        Jan\n",
       "4          5  USC00519397  01-06-2010   NaN  73.0  2010      1    6        Jan\n",
       "...      ...          ...         ...   ...   ...   ...    ...  ...        ...\n",
       "19545  19546  USC00516128  08-19-2017  0.09  71.0  2017      8   19        Aug\n",
       "19546  19547  USC00516128  08-20-2017   NaN  78.0  2017      8   20        Aug\n",
       "19547  19548  USC00516128  08-21-2017  0.56  76.0  2017      8   21        Aug\n",
       "19548  19549  USC00516128  08-22-2017  0.50  76.0  2017      8   22        Aug\n",
       "19549  19550  USC00516128  08-23-2017  0.45  76.0  2017      8   23        Aug\n",
       "\n",
       "[19550 rows x 9 columns]"
      ]
     },
     "execution_count": 4,
     "metadata": {},
     "output_type": "execute_result"
    }
   ],
   "source": [
    "#Dataframe for Measurements table\n",
    "df_measurement = pd.read_sql_query(\"SELECT * FROM measurement\",con)\n",
    "df_updated=df_measurement\n",
    "df_updated['date'] = pd.to_datetime(df_measurement['date'] ,errors = 'coerce',format = '%Y-%m-%d').dt.strftime(\"%m-%d-%Y\")\n",
    "df_updated['year'] = pd.DatetimeIndex(df_measurement['date']).year\n",
    "df_updated['month'] = pd.DatetimeIndex(df_measurement['date']).month\n",
    "df_updated['day'] = pd.DatetimeIndex(df_measurement['date']).day\n",
    "df_updated['month_name'] = df_measurement['month'].apply(lambda x: calendar.month_abbr[x])\n",
    "df_sorted=df_updated.sort_values(by=['id', 'date','month'])\n",
    "df_sorted\n",
    "\n"
   ]
  },
  {
   "cell_type": "code",
   "execution_count": 5,
   "metadata": {},
   "outputs": [
    {
     "data": {
      "text/html": [
       "<div>\n",
       "<style scoped>\n",
       "    .dataframe tbody tr th:only-of-type {\n",
       "        vertical-align: middle;\n",
       "    }\n",
       "\n",
       "    .dataframe tbody tr th {\n",
       "        vertical-align: top;\n",
       "    }\n",
       "\n",
       "    .dataframe thead th {\n",
       "        text-align: right;\n",
       "    }\n",
       "</style>\n",
       "<table border=\"1\" class=\"dataframe\">\n",
       "  <thead>\n",
       "    <tr style=\"text-align: right;\">\n",
       "      <th></th>\n",
       "      <th>id</th>\n",
       "      <th>station</th>\n",
       "      <th>name</th>\n",
       "      <th>latitude</th>\n",
       "      <th>longitude</th>\n",
       "      <th>elevation</th>\n",
       "    </tr>\n",
       "  </thead>\n",
       "  <tbody>\n",
       "    <tr>\n",
       "      <th>0</th>\n",
       "      <td>1</td>\n",
       "      <td>USC00519397</td>\n",
       "      <td>WAIKIKI 717.2, HI US</td>\n",
       "      <td>21.27160</td>\n",
       "      <td>-157.81680</td>\n",
       "      <td>3.0</td>\n",
       "    </tr>\n",
       "    <tr>\n",
       "      <th>1</th>\n",
       "      <td>2</td>\n",
       "      <td>USC00513117</td>\n",
       "      <td>KANEOHE 838.1, HI US</td>\n",
       "      <td>21.42340</td>\n",
       "      <td>-157.80150</td>\n",
       "      <td>14.6</td>\n",
       "    </tr>\n",
       "    <tr>\n",
       "      <th>2</th>\n",
       "      <td>3</td>\n",
       "      <td>USC00514830</td>\n",
       "      <td>KUALOA RANCH HEADQUARTERS 886.9, HI US</td>\n",
       "      <td>21.52130</td>\n",
       "      <td>-157.83740</td>\n",
       "      <td>7.0</td>\n",
       "    </tr>\n",
       "    <tr>\n",
       "      <th>3</th>\n",
       "      <td>4</td>\n",
       "      <td>USC00517948</td>\n",
       "      <td>PEARL CITY, HI US</td>\n",
       "      <td>21.39340</td>\n",
       "      <td>-157.97510</td>\n",
       "      <td>11.9</td>\n",
       "    </tr>\n",
       "    <tr>\n",
       "      <th>4</th>\n",
       "      <td>5</td>\n",
       "      <td>USC00518838</td>\n",
       "      <td>UPPER WAHIAWA 874.3, HI US</td>\n",
       "      <td>21.49920</td>\n",
       "      <td>-158.01110</td>\n",
       "      <td>306.6</td>\n",
       "    </tr>\n",
       "    <tr>\n",
       "      <th>5</th>\n",
       "      <td>6</td>\n",
       "      <td>USC00519523</td>\n",
       "      <td>WAIMANALO EXPERIMENTAL FARM, HI US</td>\n",
       "      <td>21.33556</td>\n",
       "      <td>-157.71139</td>\n",
       "      <td>19.5</td>\n",
       "    </tr>\n",
       "    <tr>\n",
       "      <th>6</th>\n",
       "      <td>7</td>\n",
       "      <td>USC00519281</td>\n",
       "      <td>WAIHEE 837.5, HI US</td>\n",
       "      <td>21.45167</td>\n",
       "      <td>-157.84889</td>\n",
       "      <td>32.9</td>\n",
       "    </tr>\n",
       "    <tr>\n",
       "      <th>7</th>\n",
       "      <td>8</td>\n",
       "      <td>USC00511918</td>\n",
       "      <td>HONOLULU OBSERVATORY 702.2, HI US</td>\n",
       "      <td>21.31520</td>\n",
       "      <td>-157.99920</td>\n",
       "      <td>0.9</td>\n",
       "    </tr>\n",
       "    <tr>\n",
       "      <th>8</th>\n",
       "      <td>9</td>\n",
       "      <td>USC00516128</td>\n",
       "      <td>MANOA LYON ARBO 785.2, HI US</td>\n",
       "      <td>21.33310</td>\n",
       "      <td>-157.80250</td>\n",
       "      <td>152.4</td>\n",
       "    </tr>\n",
       "  </tbody>\n",
       "</table>\n",
       "</div>"
      ],
      "text/plain": [
       "   id      station                                    name  latitude  \\\n",
       "0   1  USC00519397                    WAIKIKI 717.2, HI US  21.27160   \n",
       "1   2  USC00513117                    KANEOHE 838.1, HI US  21.42340   \n",
       "2   3  USC00514830  KUALOA RANCH HEADQUARTERS 886.9, HI US  21.52130   \n",
       "3   4  USC00517948                       PEARL CITY, HI US  21.39340   \n",
       "4   5  USC00518838              UPPER WAHIAWA 874.3, HI US  21.49920   \n",
       "5   6  USC00519523      WAIMANALO EXPERIMENTAL FARM, HI US  21.33556   \n",
       "6   7  USC00519281                     WAIHEE 837.5, HI US  21.45167   \n",
       "7   8  USC00511918       HONOLULU OBSERVATORY 702.2, HI US  21.31520   \n",
       "8   9  USC00516128            MANOA LYON ARBO 785.2, HI US  21.33310   \n",
       "\n",
       "   longitude  elevation  \n",
       "0 -157.81680        3.0  \n",
       "1 -157.80150       14.6  \n",
       "2 -157.83740        7.0  \n",
       "3 -157.97510       11.9  \n",
       "4 -158.01110      306.6  \n",
       "5 -157.71139       19.5  \n",
       "6 -157.84889       32.9  \n",
       "7 -157.99920        0.9  \n",
       "8 -157.80250      152.4  "
      ]
     },
     "execution_count": 5,
     "metadata": {},
     "output_type": "execute_result"
    }
   ],
   "source": [
    "#Dataframe for Sessions Table \n",
    "df_station = pd.read_sql_query(\"SELECT * FROM station\",con)\n",
    "df_station"
   ]
  },
  {
   "cell_type": "markdown",
   "metadata": {},
   "source": [
    "#### Designed a query to retrieve the last 12 months of precipitation data\n"
   ]
  },
  {
   "cell_type": "code",
   "execution_count": 6,
   "metadata": {},
   "outputs": [
    {
     "data": {
      "text/html": [
       "<div>\n",
       "<style scoped>\n",
       "    .dataframe tbody tr th:only-of-type {\n",
       "        vertical-align: middle;\n",
       "    }\n",
       "\n",
       "    .dataframe tbody tr th {\n",
       "        vertical-align: top;\n",
       "    }\n",
       "\n",
       "    .dataframe thead th {\n",
       "        text-align: right;\n",
       "    }\n",
       "</style>\n",
       "<table border=\"1\" class=\"dataframe\">\n",
       "  <thead>\n",
       "    <tr style=\"text-align: right;\">\n",
       "      <th></th>\n",
       "      <th></th>\n",
       "      <th>prcp</th>\n",
       "    </tr>\n",
       "    <tr>\n",
       "      <th>year</th>\n",
       "      <th>month_name</th>\n",
       "      <th></th>\n",
       "    </tr>\n",
       "  </thead>\n",
       "  <tbody>\n",
       "    <tr>\n",
       "      <th rowspan=\"4\" valign=\"top\">2016</th>\n",
       "      <th>May</th>\n",
       "      <td>29.79</td>\n",
       "    </tr>\n",
       "    <tr>\n",
       "      <th>Nov</th>\n",
       "      <td>20.56</td>\n",
       "    </tr>\n",
       "    <tr>\n",
       "      <th>Oct</th>\n",
       "      <td>21.77</td>\n",
       "    </tr>\n",
       "    <tr>\n",
       "      <th>Sep</th>\n",
       "      <td>49.40</td>\n",
       "    </tr>\n",
       "    <tr>\n",
       "      <th rowspan=\"8\" valign=\"top\">2017</th>\n",
       "      <th>Apr</th>\n",
       "      <td>54.91</td>\n",
       "    </tr>\n",
       "    <tr>\n",
       "      <th>Aug</th>\n",
       "      <td>5.18</td>\n",
       "    </tr>\n",
       "    <tr>\n",
       "      <th>Feb</th>\n",
       "      <td>39.06</td>\n",
       "    </tr>\n",
       "    <tr>\n",
       "      <th>Jan</th>\n",
       "      <td>11.95</td>\n",
       "    </tr>\n",
       "    <tr>\n",
       "      <th>Jul</th>\n",
       "      <td>23.72</td>\n",
       "    </tr>\n",
       "    <tr>\n",
       "      <th>Jun</th>\n",
       "      <td>20.52</td>\n",
       "    </tr>\n",
       "    <tr>\n",
       "      <th>Mar</th>\n",
       "      <td>29.62</td>\n",
       "    </tr>\n",
       "    <tr>\n",
       "      <th>May</th>\n",
       "      <td>25.27</td>\n",
       "    </tr>\n",
       "  </tbody>\n",
       "</table>\n",
       "</div>"
      ],
      "text/plain": [
       "                  prcp\n",
       "year month_name       \n",
       "2016 May         29.79\n",
       "     Nov         20.56\n",
       "     Oct         21.77\n",
       "     Sep         49.40\n",
       "2017 Apr         54.91\n",
       "     Aug          5.18\n",
       "     Feb         39.06\n",
       "     Jan         11.95\n",
       "     Jul         23.72\n",
       "     Jun         20.52\n",
       "     Mar         29.62\n",
       "     May         25.27"
      ]
     },
     "execution_count": 6,
     "metadata": {},
     "output_type": "execute_result"
    }
   ],
   "source": [
    "prcp_df = df_sorted.groupby(['year','month_name']).agg({'prcp': 'sum'})\n",
    "prcp_filtered=prcp_df.tail(12)\n",
    "prcp_filtered\n",
    "\n",
    "\n"
   ]
  },
  {
   "cell_type": "markdown",
   "metadata": {},
   "source": [
    "#### Plotted the results in a Bar Chart"
   ]
  },
  {
   "cell_type": "code",
   "execution_count": 7,
   "metadata": {},
   "outputs": [
    {
     "data": {
      "image/png": "[encoded data removed]",
      "text/plain": [
       "<Figure size 432x288 with 1 Axes>"
      ]
     },
     "metadata": {},
     "output_type": "display_data"
    }
   ],
   "source": [
    "bar=prcp_filtered.plot(kind='bar',y='prcp', fontsize=10)\n",
    "plt.xlabel(\"Dates\")\n",
    "plt.ylabel(\"Inches\")\n",
    "plt.title=(\"Precipitation Trends\")\n",
    "plt.show()\n"
   ]
  },
  {
   "cell_type": "markdown",
   "metadata": {},
   "source": [
    "#### Calculated the date 1 year ago from the last data point in the database"
   ]
  },
  {
   "cell_type": "code",
   "execution_count": 8,
   "metadata": {},
   "outputs": [
    {
     "data": {
      "text/html": [
       "<div>\n",
       "<style scoped>\n",
       "    .dataframe tbody tr th:only-of-type {\n",
       "        vertical-align: middle;\n",
       "    }\n",
       "\n",
       "    .dataframe tbody tr th {\n",
       "        vertical-align: top;\n",
       "    }\n",
       "\n",
       "    .dataframe thead th {\n",
       "        text-align: right;\n",
       "    }\n",
       "</style>\n",
       "<table border=\"1\" class=\"dataframe\">\n",
       "  <thead>\n",
       "    <tr style=\"text-align: right;\">\n",
       "      <th></th>\n",
       "      <th>max_date</th>\n",
       "    </tr>\n",
       "  </thead>\n",
       "  <tbody>\n",
       "    <tr>\n",
       "      <th>0</th>\n",
       "      <td>2016-08-23</td>\n",
       "    </tr>\n",
       "  </tbody>\n",
       "</table>\n",
       "</div>"
      ],
      "text/plain": [
       "     max_date\n",
       "0  2016-08-23"
      ]
     },
     "execution_count": 8,
     "metadata": {},
     "output_type": "execute_result"
    }
   ],
   "source": [
    "dates=pd.read_sql_query(\"SELECT date(max(date),'-365 days') as max_date FROM measurement\",con)\n",
    "dates\n",
    "\n"
   ]
  },
  {
   "cell_type": "markdown",
   "metadata": {},
   "source": [
    "#### Performed a query to retrieve the data and precipitation scores and loaded them in a data frame"
   ]
  },
  {
   "cell_type": "code",
   "execution_count": 9,
   "metadata": {},
   "outputs": [
    {
     "data": {
      "text/html": [
       "<div>\n",
       "<style scoped>\n",
       "    .dataframe tbody tr th:only-of-type {\n",
       "        vertical-align: middle;\n",
       "    }\n",
       "\n",
       "    .dataframe tbody tr th {\n",
       "        vertical-align: top;\n",
       "    }\n",
       "\n",
       "    .dataframe thead th {\n",
       "        text-align: right;\n",
       "    }\n",
       "</style>\n",
       "<table border=\"1\" class=\"dataframe\">\n",
       "  <thead>\n",
       "    <tr style=\"text-align: right;\">\n",
       "      <th></th>\n",
       "      <th>date</th>\n",
       "      <th>prcp</th>\n",
       "    </tr>\n",
       "  </thead>\n",
       "  <tbody>\n",
       "    <tr>\n",
       "      <th>0</th>\n",
       "      <td>2010-01-01</td>\n",
       "      <td>0.08</td>\n",
       "    </tr>\n",
       "    <tr>\n",
       "      <th>1</th>\n",
       "      <td>2010-01-02</td>\n",
       "      <td>0.00</td>\n",
       "    </tr>\n",
       "    <tr>\n",
       "      <th>2</th>\n",
       "      <td>2010-01-03</td>\n",
       "      <td>0.00</td>\n",
       "    </tr>\n",
       "    <tr>\n",
       "      <th>3</th>\n",
       "      <td>2010-01-04</td>\n",
       "      <td>0.00</td>\n",
       "    </tr>\n",
       "    <tr>\n",
       "      <th>4</th>\n",
       "      <td>2010-01-06</td>\n",
       "      <td>NaN</td>\n",
       "    </tr>\n",
       "  </tbody>\n",
       "</table>\n",
       "</div>"
      ],
      "text/plain": [
       "         date  prcp\n",
       "0  2010-01-01  0.08\n",
       "1  2010-01-02  0.00\n",
       "2  2010-01-03  0.00\n",
       "3  2010-01-04  0.00\n",
       "4  2010-01-06   NaN"
      ]
     },
     "execution_count": 9,
     "metadata": {},
     "output_type": "execute_result"
    }
   ],
   "source": [
    "df_filtered = pd.read_sql_query(\"SELECT date, prcp FROM measurement\",con)\n",
    "df_filtered.set_index('date')\n",
    "df_filtered.head()"
   ]
  },
  {
   "cell_type": "markdown",
   "metadata": {},
   "source": [
    "#### Sorted the dataframe by the date column"
   ]
  },
  {
   "cell_type": "code",
   "execution_count": 10,
   "metadata": {},
   "outputs": [
    {
     "data": {
      "text/html": [
       "<div>\n",
       "<style scoped>\n",
       "    .dataframe tbody tr th:only-of-type {\n",
       "        vertical-align: middle;\n",
       "    }\n",
       "\n",
       "    .dataframe tbody tr th {\n",
       "        vertical-align: top;\n",
       "    }\n",
       "\n",
       "    .dataframe thead th {\n",
       "        text-align: right;\n",
       "    }\n",
       "</style>\n",
       "<table border=\"1\" class=\"dataframe\">\n",
       "  <thead>\n",
       "    <tr style=\"text-align: right;\">\n",
       "      <th></th>\n",
       "      <th>date</th>\n",
       "      <th>prcp</th>\n",
       "    </tr>\n",
       "  </thead>\n",
       "  <tbody>\n",
       "    <tr>\n",
       "      <th>0</th>\n",
       "      <td>2010-01-01</td>\n",
       "      <td>0.08</td>\n",
       "    </tr>\n",
       "    <tr>\n",
       "      <th>9007</th>\n",
       "      <td>2010-01-01</td>\n",
       "      <td>0.21</td>\n",
       "    </tr>\n",
       "    <tr>\n",
       "      <th>9518</th>\n",
       "      <td>2010-01-01</td>\n",
       "      <td>0.15</td>\n",
       "    </tr>\n",
       "    <tr>\n",
       "      <th>12187</th>\n",
       "      <td>2010-01-01</td>\n",
       "      <td>0.15</td>\n",
       "    </tr>\n",
       "    <tr>\n",
       "      <th>14959</th>\n",
       "      <td>2010-01-01</td>\n",
       "      <td>0.05</td>\n",
       "    </tr>\n",
       "  </tbody>\n",
       "</table>\n",
       "</div>"
      ],
      "text/plain": [
       "             date  prcp\n",
       "0      2010-01-01  0.08\n",
       "9007   2010-01-01  0.21\n",
       "9518   2010-01-01  0.15\n",
       "12187  2010-01-01  0.15\n",
       "14959  2010-01-01  0.05"
      ]
     },
     "execution_count": 10,
     "metadata": {},
     "output_type": "execute_result"
    }
   ],
   "source": [
    "filtered_sorted=df_filtered.sort_values(by='date')\n",
    "filtered_sorted.head()"
   ]
  },
  {
   "cell_type": "markdown",
   "metadata": {},
   "source": [
    "#### Printed a summary statistics of the precipitation data"
   ]
  },
  {
   "cell_type": "code",
   "execution_count": 11,
   "metadata": {
    "scrolled": true
   },
   "outputs": [
    {
     "data": {
      "text/html": [
       "<div>\n",
       "<style scoped>\n",
       "    .dataframe tbody tr th:only-of-type {\n",
       "        vertical-align: middle;\n",
       "    }\n",
       "\n",
       "    .dataframe tbody tr th {\n",
       "        vertical-align: top;\n",
       "    }\n",
       "\n",
       "    .dataframe thead th {\n",
       "        text-align: right;\n",
       "    }\n",
       "</style>\n",
       "<table border=\"1\" class=\"dataframe\">\n",
       "  <thead>\n",
       "    <tr style=\"text-align: right;\">\n",
       "      <th></th>\n",
       "      <th>precipitation</th>\n",
       "    </tr>\n",
       "  </thead>\n",
       "  <tbody>\n",
       "    <tr>\n",
       "      <th>count</th>\n",
       "      <td>18,103.00</td>\n",
       "    </tr>\n",
       "    <tr>\n",
       "      <th>mean</th>\n",
       "      <td>0.16</td>\n",
       "    </tr>\n",
       "    <tr>\n",
       "      <th>std</th>\n",
       "      <td>0.47</td>\n",
       "    </tr>\n",
       "    <tr>\n",
       "      <th>min</th>\n",
       "      <td>0.00</td>\n",
       "    </tr>\n",
       "    <tr>\n",
       "      <th>25%</th>\n",
       "      <td>0.00</td>\n",
       "    </tr>\n",
       "    <tr>\n",
       "      <th>50%</th>\n",
       "      <td>0.01</td>\n",
       "    </tr>\n",
       "    <tr>\n",
       "      <th>75%</th>\n",
       "      <td>0.11</td>\n",
       "    </tr>\n",
       "    <tr>\n",
       "      <th>max</th>\n",
       "      <td>11.53</td>\n",
       "    </tr>\n",
       "  </tbody>\n",
       "</table>\n",
       "</div>"
      ],
      "text/plain": [
       "       precipitation\n",
       "count      18,103.00\n",
       "mean            0.16\n",
       "std             0.47\n",
       "min             0.00\n",
       "25%             0.00\n",
       "50%             0.01\n",
       "75%             0.11\n",
       "max            11.53"
      ]
     },
     "execution_count": 11,
     "metadata": {},
     "output_type": "execute_result"
    }
   ],
   "source": [
    "pd.options.display.float_format = '{:,.2f}'.format\n",
    "df_measurement = pd.read_sql_query(\"SELECT prcp as precipitation FROM measurement\",con)\n",
    "df_measurement.describe()\n"
   ]
  },
  {
   "cell_type": "markdown",
   "metadata": {},
   "source": [
    "### Station Analysis"
   ]
  },
  {
   "cell_type": "markdown",
   "metadata": {},
   "source": [
    "#### Designed a query to calculate the total number of stations"
   ]
  },
  {
   "cell_type": "code",
   "execution_count": 12,
   "metadata": {},
   "outputs": [
    {
     "data": {
      "text/html": [
       "<div>\n",
       "<style scoped>\n",
       "    .dataframe tbody tr th:only-of-type {\n",
       "        vertical-align: middle;\n",
       "    }\n",
       "\n",
       "    .dataframe tbody tr th {\n",
       "        vertical-align: top;\n",
       "    }\n",
       "\n",
       "    .dataframe thead th {\n",
       "        text-align: right;\n",
       "    }\n",
       "</style>\n",
       "<table border=\"1\" class=\"dataframe\">\n",
       "  <thead>\n",
       "    <tr style=\"text-align: right;\">\n",
       "      <th></th>\n",
       "      <th>count(name)</th>\n",
       "    </tr>\n",
       "  </thead>\n",
       "  <tbody>\n",
       "    <tr>\n",
       "      <th>0</th>\n",
       "      <td>9</td>\n",
       "    </tr>\n",
       "  </tbody>\n",
       "</table>\n",
       "</div>"
      ],
      "text/plain": [
       "   count(name)\n",
       "0            9"
      ]
     },
     "execution_count": 12,
     "metadata": {},
     "output_type": "execute_result"
    }
   ],
   "source": [
    "#Count of stations\n",
    "df_station = pd.read_sql_query(\"SELECT count(name) FROM station\",con)\n",
    "df_station\n"
   ]
  },
  {
   "cell_type": "markdown",
   "metadata": {},
   "source": [
    "#### Designed a query to find the most active stations."
   ]
  },
  {
   "cell_type": "code",
   "execution_count": 13,
   "metadata": {},
   "outputs": [
    {
     "data": {
      "text/html": [
       "<div>\n",
       "<style scoped>\n",
       "    .dataframe tbody tr th:only-of-type {\n",
       "        vertical-align: middle;\n",
       "    }\n",
       "\n",
       "    .dataframe tbody tr th {\n",
       "        vertical-align: top;\n",
       "    }\n",
       "\n",
       "    .dataframe thead th {\n",
       "        text-align: right;\n",
       "    }\n",
       "</style>\n",
       "<table border=\"1\" class=\"dataframe\">\n",
       "  <thead>\n",
       "    <tr style=\"text-align: right;\">\n",
       "      <th></th>\n",
       "      <th>Total Observations</th>\n",
       "    </tr>\n",
       "    <tr>\n",
       "      <th>name</th>\n",
       "      <th></th>\n",
       "    </tr>\n",
       "  </thead>\n",
       "  <tbody>\n",
       "    <tr>\n",
       "      <th>HONOLULU OBSERVATORY 702.2, HI US</th>\n",
       "      <td>1979</td>\n",
       "    </tr>\n",
       "    <tr>\n",
       "      <th>KANEOHE 838.1, HI US</th>\n",
       "      <td>2709</td>\n",
       "    </tr>\n",
       "    <tr>\n",
       "      <th>KUALOA RANCH HEADQUARTERS 886.9, HI US</th>\n",
       "      <td>2202</td>\n",
       "    </tr>\n",
       "    <tr>\n",
       "      <th>MANOA LYON ARBO 785.2, HI US</th>\n",
       "      <td>2612</td>\n",
       "    </tr>\n",
       "    <tr>\n",
       "      <th>PEARL CITY, HI US</th>\n",
       "      <td>1372</td>\n",
       "    </tr>\n",
       "    <tr>\n",
       "      <th>UPPER WAHIAWA 874.3, HI US</th>\n",
       "      <td>511</td>\n",
       "    </tr>\n",
       "    <tr>\n",
       "      <th>WAIHEE 837.5, HI US</th>\n",
       "      <td>2772</td>\n",
       "    </tr>\n",
       "    <tr>\n",
       "      <th>WAIKIKI 717.2, HI US</th>\n",
       "      <td>2724</td>\n",
       "    </tr>\n",
       "    <tr>\n",
       "      <th>WAIMANALO EXPERIMENTAL FARM, HI US</th>\n",
       "      <td>2669</td>\n",
       "    </tr>\n",
       "  </tbody>\n",
       "</table>\n",
       "</div>"
      ],
      "text/plain": [
       "                                        Total Observations\n",
       "name                                                      \n",
       "HONOLULU OBSERVATORY 702.2, HI US                     1979\n",
       "KANEOHE 838.1, HI US                                  2709\n",
       "KUALOA RANCH HEADQUARTERS 886.9, HI US                2202\n",
       "MANOA LYON ARBO 785.2, HI US                          2612\n",
       "PEARL CITY, HI US                                     1372\n",
       "UPPER WAHIAWA 874.3, HI US                             511\n",
       "WAIHEE 837.5, HI US                                   2772\n",
       "WAIKIKI 717.2, HI US                                  2724\n",
       "WAIMANALO EXPERIMENTAL FARM, HI US                    2669"
      ]
     },
     "execution_count": 13,
     "metadata": {},
     "output_type": "execute_result"
    }
   ],
   "source": [
    "df_measurement = pd.read_sql_query(\"SELECT * FROM measurement\",con)\n",
    "df_station = pd.read_sql_query(\"SELECT * FROM station\",con)\n",
    "weather_df=pd.merge(df_measurement, df_station, on=\"station\")\n",
    "active_station=weather_df.groupby('name')['tobs'].count()\n",
    "station_analysis=pd.concat([active_station.to_frame()], axis=1, sort=False)\n",
    "station_analysis.columns=['Total Observations']\n",
    "station_analysis.sort_values(['Total Observations'], ascending=False)\n",
    "station_analysis"
   ]
  },
  {
   "cell_type": "markdown",
   "metadata": {},
   "source": [
    "#### Listed the stations and observation counts in descending order."
   ]
  },
  {
   "cell_type": "code",
   "execution_count": 14,
   "metadata": {},
   "outputs": [
    {
     "data": {
      "text/html": [
       "<div>\n",
       "<style scoped>\n",
       "    .dataframe tbody tr th:only-of-type {\n",
       "        vertical-align: middle;\n",
       "    }\n",
       "\n",
       "    .dataframe tbody tr th {\n",
       "        vertical-align: top;\n",
       "    }\n",
       "\n",
       "    .dataframe thead th {\n",
       "        text-align: right;\n",
       "    }\n",
       "</style>\n",
       "<table border=\"1\" class=\"dataframe\">\n",
       "  <thead>\n",
       "    <tr style=\"text-align: right;\">\n",
       "      <th></th>\n",
       "      <th>Total Observations</th>\n",
       "    </tr>\n",
       "    <tr>\n",
       "      <th>name</th>\n",
       "      <th></th>\n",
       "    </tr>\n",
       "  </thead>\n",
       "  <tbody>\n",
       "    <tr>\n",
       "      <th>WAIHEE 837.5, HI US</th>\n",
       "      <td>2772</td>\n",
       "    </tr>\n",
       "    <tr>\n",
       "      <th>WAIKIKI 717.2, HI US</th>\n",
       "      <td>2724</td>\n",
       "    </tr>\n",
       "    <tr>\n",
       "      <th>KANEOHE 838.1, HI US</th>\n",
       "      <td>2709</td>\n",
       "    </tr>\n",
       "    <tr>\n",
       "      <th>WAIMANALO EXPERIMENTAL FARM, HI US</th>\n",
       "      <td>2669</td>\n",
       "    </tr>\n",
       "    <tr>\n",
       "      <th>MANOA LYON ARBO 785.2, HI US</th>\n",
       "      <td>2612</td>\n",
       "    </tr>\n",
       "    <tr>\n",
       "      <th>KUALOA RANCH HEADQUARTERS 886.9, HI US</th>\n",
       "      <td>2202</td>\n",
       "    </tr>\n",
       "    <tr>\n",
       "      <th>HONOLULU OBSERVATORY 702.2, HI US</th>\n",
       "      <td>1979</td>\n",
       "    </tr>\n",
       "    <tr>\n",
       "      <th>PEARL CITY, HI US</th>\n",
       "      <td>1372</td>\n",
       "    </tr>\n",
       "    <tr>\n",
       "      <th>UPPER WAHIAWA 874.3, HI US</th>\n",
       "      <td>511</td>\n",
       "    </tr>\n",
       "  </tbody>\n",
       "</table>\n",
       "</div>"
      ],
      "text/plain": [
       "                                        Total Observations\n",
       "name                                                      \n",
       "WAIHEE 837.5, HI US                                   2772\n",
       "WAIKIKI 717.2, HI US                                  2724\n",
       "KANEOHE 838.1, HI US                                  2709\n",
       "WAIMANALO EXPERIMENTAL FARM, HI US                    2669\n",
       "MANOA LYON ARBO 785.2, HI US                          2612\n",
       "KUALOA RANCH HEADQUARTERS 886.9, HI US                2202\n",
       "HONOLULU OBSERVATORY 702.2, HI US                     1979\n",
       "PEARL CITY, HI US                                     1372\n",
       "UPPER WAHIAWA 874.3, HI US                             511"
      ]
     },
     "execution_count": 14,
     "metadata": {},
     "output_type": "execute_result"
    }
   ],
   "source": [
    "#List the stations and observation counts in descending order.\n",
    "station_sorted = station_analysis.sort_values(['Total Observations'], ascending=[False])\n",
    "station_sorted"
   ]
  },
  {
   "cell_type": "markdown",
   "metadata": {},
   "source": [
    "#### Station with the highest number of observations"
   ]
  },
  {
   "cell_type": "code",
   "execution_count": 15,
   "metadata": {},
   "outputs": [
    {
     "name": "stdout",
     "output_type": "stream",
     "text": [
      "Total Observations    2772\n",
      "Name: WAIHEE 837.5, HI US, dtype: int64\n"
     ]
    }
   ],
   "source": [
    "max_observations=station_analysis.loc[station_analysis['Total Observations'].idxmax()]\n",
    "print(max_observations)"
   ]
  },
  {
   "cell_type": "markdown",
   "metadata": {},
   "source": [
    "#### Designed a query to retrieve the last 12 months of precipitation data "
   ]
  },
  {
   "cell_type": "code",
   "execution_count": 16,
   "metadata": {},
   "outputs": [
    {
     "name": "stderr",
     "output_type": "stream",
     "text": [
      "C:\\Users\\Ashwath\\Anaconda3\\Anaconda3.1\\envs\\PythonData\\lib\\site-packages\\ipykernel_launcher.py:1: FutureWarning: Indexing with multiple keys (implicitly converted to a tuple of keys) will be deprecated, use a list instead.\n",
      "  \"\"\"Entry point for launching an IPython kernel.\n"
     ]
    },
    {
     "data": {
      "text/html": [
       "<div>\n",
       "<style scoped>\n",
       "    .dataframe tbody tr th:only-of-type {\n",
       "        vertical-align: middle;\n",
       "    }\n",
       "\n",
       "    .dataframe tbody tr th {\n",
       "        vertical-align: top;\n",
       "    }\n",
       "\n",
       "    .dataframe thead th {\n",
       "        text-align: right;\n",
       "    }\n",
       "</style>\n",
       "<table border=\"1\" class=\"dataframe\">\n",
       "  <thead>\n",
       "    <tr style=\"text-align: right;\">\n",
       "      <th></th>\n",
       "      <th>date</th>\n",
       "      <th>tobs</th>\n",
       "    </tr>\n",
       "  </thead>\n",
       "  <tbody>\n",
       "    <tr>\n",
       "      <th>17276</th>\n",
       "      <td>12-20-2010</td>\n",
       "      <td>72.00</td>\n",
       "    </tr>\n",
       "    <tr>\n",
       "      <th>17277</th>\n",
       "      <td>12-21-2010</td>\n",
       "      <td>69.00</td>\n",
       "    </tr>\n",
       "    <tr>\n",
       "      <th>17278</th>\n",
       "      <td>12-22-2010</td>\n",
       "      <td>69.00</td>\n",
       "    </tr>\n",
       "    <tr>\n",
       "      <th>17279</th>\n",
       "      <td>12-23-2010</td>\n",
       "      <td>67.00</td>\n",
       "    </tr>\n",
       "    <tr>\n",
       "      <th>17280</th>\n",
       "      <td>12-24-2010</td>\n",
       "      <td>69.00</td>\n",
       "    </tr>\n",
       "    <tr>\n",
       "      <th>...</th>\n",
       "      <td>...</td>\n",
       "      <td>...</td>\n",
       "    </tr>\n",
       "    <tr>\n",
       "      <th>19545</th>\n",
       "      <td>08-19-2017</td>\n",
       "      <td>71.00</td>\n",
       "    </tr>\n",
       "    <tr>\n",
       "      <th>19546</th>\n",
       "      <td>08-20-2017</td>\n",
       "      <td>78.00</td>\n",
       "    </tr>\n",
       "    <tr>\n",
       "      <th>19547</th>\n",
       "      <td>08-21-2017</td>\n",
       "      <td>76.00</td>\n",
       "    </tr>\n",
       "    <tr>\n",
       "      <th>19548</th>\n",
       "      <td>08-22-2017</td>\n",
       "      <td>76.00</td>\n",
       "    </tr>\n",
       "    <tr>\n",
       "      <th>19549</th>\n",
       "      <td>08-23-2017</td>\n",
       "      <td>76.00</td>\n",
       "    </tr>\n",
       "  </tbody>\n",
       "</table>\n",
       "<p>96 rows × 2 columns</p>\n",
       "</div>"
      ],
      "text/plain": [
       "             date  tobs\n",
       "17276  12-20-2010 72.00\n",
       "17277  12-21-2010 69.00\n",
       "17278  12-22-2010 69.00\n",
       "17279  12-23-2010 67.00\n",
       "17280  12-24-2010 69.00\n",
       "...           ...   ...\n",
       "19545  08-19-2017 71.00\n",
       "19546  08-20-2017 78.00\n",
       "19547  08-21-2017 76.00\n",
       "19548  08-22-2017 76.00\n",
       "19549  08-23-2017 76.00\n",
       "\n",
       "[96 rows x 2 columns]"
      ]
     },
     "execution_count": 16,
     "metadata": {},
     "output_type": "execute_result"
    }
   ],
   "source": [
    "tobs_df = df_sorted.groupby('year')['date','tobs']\n",
    "tobs_df.tail(12)"
   ]
  },
  {
   "cell_type": "markdown",
   "metadata": {},
   "source": [
    "#### Plotted the results in a histogram "
   ]
  },
  {
   "cell_type": "code",
   "execution_count": 17,
   "metadata": {},
   "outputs": [
    {
     "data": {
      "image/png": "[encoded data removed]",
      "text/plain": [
       "<Figure size 432x288 with 1 Axes>"
      ]
     },
     "metadata": {},
     "output_type": "display_data"
    }
   ],
   "source": [
    "df_sorted.hist(column='tobs', grid=True, bins=12)\n",
    "plt.ylabel('Frequency')\n",
    "plt.xlabel('Temperatures')\n",
    "plt.show()"
   ]
  },
  {
   "cell_type": "code",
   "execution_count": null,
   "metadata": {},
   "outputs": [],
   "source": []
  },
  {
   "cell_type": "code",
   "execution_count": null,
   "metadata": {},
   "outputs": [],
   "source": []
  }
 ],
 "metadata": {
  "kernel_info": {
   "name": "python3"
  },
  "kernelspec": {
   "display_name": "Python [conda env:PythonData] *",
   "language": "python",
   "name": "conda-env-PythonData-py"
  },
  "language_info": {
   "codemirror_mode": {
    "name": "ipython",
    "version": 3
   },
   "file_extension": ".py",
   "mimetype": "text/x-python",
   "name": "python",
   "nbconvert_exporter": "python",
   "pygments_lexer": "ipython3",
   "version": "3.6.10"
  },
  "nteract": {
   "version": "0.12.3"
  },
  "toc": {
   "base_numbering": 1,
   "nav_menu": {},
   "number_sections": true,
   "sideBar": true,
   "skip_h1_title": false,
   "title_cell": "Sections",
   "title_sidebar": "Contents",
   "toc_cell": true,
   "toc_position": {
    "height": "calc(100% - 180px)",
    "left": "10px",
    "top": "150px",
    "width": "165px"
   },
   "toc_section_display": true,
   "toc_window_display": false
  },
  "varInspector": {
   "cols": {
    "lenName": 16,
    "lenType": 16,
    "lenVar": 40
   },
   "kernels_config": {
    "python": {
     "delete_cmd_postfix": "",
     "delete_cmd_prefix": "del ",
     "library": "var_list.py",
     "varRefreshCmd": "print(var_dic_list())"
    },
    "r": {
     "delete_cmd_postfix": ") ",
     "delete_cmd_prefix": "rm(",
     "library": "var_list.r",
     "varRefreshCmd": "cat(var_dic_list()) "
    }
   },
   "types_to_exclude": [
    "module",
    "function",
    "builtin_function_or_method",
    "instance",
    "_Feature"
   ],
   "window_display": false
  }
 },
 "nbformat": 4,
 "nbformat_minor": 2
}
